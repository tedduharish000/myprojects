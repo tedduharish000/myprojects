{
 "cells": [
  {
   "cell_type": "code",
   "execution_count": 0,
   "metadata": {
    "application/vnd.databricks.v1+cell": {
     "cellMetadata": {
      "byteLimit": 2048000,
      "rowLimit": 10000
     },
     "inputWidgets": {},
     "nuid": "5c8dcf2f-987a-4fb5-b219-fcdcfa87eb9e",
     "showTitle": false,
     "title": ""
    }
   },
   "outputs": [
    {
     "output_type": "stream",
     "name": "stdout",
     "output_type": "stream",
     "text": [
      "hello\n"
     ]
    }
   ],
   "source": [
    "print('hello')"
   ]
  },
  {
   "cell_type": "code",
   "execution_count": 0,
   "metadata": {
    "application/vnd.databricks.v1+cell": {
     "cellMetadata": {
      "byteLimit": 2048000,
      "rowLimit": 10000
     },
     "inputWidgets": {},
     "nuid": "2463fb5d-609a-4520-bc21-d428c0f5bd6c",
     "showTitle": false,
     "title": ""
    }
   },
   "outputs": [],
   "source": [
    "filepath = 'dbfs:/FileStore/employees.csv'"
   ]
  },
  {
   "cell_type": "code",
   "execution_count": 0,
   "metadata": {
    "application/vnd.databricks.v1+cell": {
     "cellMetadata": {
      "byteLimit": 2048000,
      "rowLimit": 10000
     },
     "inputWidgets": {},
     "nuid": "72d3d82a-aeb0-492c-af3a-170dc781bc85",
     "showTitle": false,
     "title": ""
    }
   },
   "outputs": [],
   "source": [
    "df = spark.read.csv(filepath, header=True, inferSchema=True)\n"
   ]
  },
  {
   "cell_type": "code",
   "execution_count": 0,
   "metadata": {
    "application/vnd.databricks.v1+cell": {
     "cellMetadata": {
      "byteLimit": 2048000,
      "rowLimit": 10000
     },
     "inputWidgets": {},
     "nuid": "a98cb444-62a8-403a-ae19-6f20b1bd1a82",
     "showTitle": false,
     "title": ""
    }
   },
   "outputs": [],
   "source": [
    "df2 = df.withColumnRenamed('First Name', 'First_Name')\\\n",
    "      .withColumnRenamed('Start Date', 'Start_Date')\\\n",
    "      .withColumnRenamed('Last Login Time', 'Last_Login_Time')\\\n",
    "          .withColumnRenamed('Senior Management', 'Senior_Management')\\\n",
    "            .withColumnRenamed('Bonus %', 'Bonus_%|')"
   ]
  },
  {
   "cell_type": "code",
   "execution_count": 0,
   "metadata": {
    "application/vnd.databricks.v1+cell": {
     "cellMetadata": {
      "byteLimit": 2048000,
      "rowLimit": 10000
     },
     "inputWidgets": {},
     "nuid": "d1e1db06-56fe-4250-ab94-8aa3fe450628",
     "showTitle": true,
     "title": "renaming"
    }
   },
   "outputs": [
    {
     "output_type": "stream",
     "name": "stdout",
     "output_type": "stream",
     "text": [
      "+----------+------+----------+---------------+------+--------+-----------------+--------------------+\n|First_Name|Gender|Start_Date|Last_Login_Time|Salary|Bonus_%||Senior_Management|                Team|\n+----------+------+----------+---------------+------+--------+-----------------+--------------------+\n|   Douglas|  Male|1993-08-06|       12:42 PM| 97308|   6.945|             true|           Marketing|\n|    Thomas|  Male|1996-03-31|        6:53 AM| 61933|    4.17|             true|                null|\n|     Maria|Female|1993-04-23|       11:17 AM|130590|  11.858|            false|             Finance|\n|     Jerry|  Male|2005-03-04|        1:00 PM|138705|    9.34|             true|             Finance|\n|     Larry|  Male|1998-01-24|        4:47 PM|101004|   1.389|             true|     Client Services|\n|    Dennis|  Male|1987-04-18|        1:35 AM|115163|  10.125|            false|               Legal|\n|      Ruby|Female|1987-08-17|        4:20 PM| 65476|  10.012|             true|             Product|\n|      null|Female|2015-07-20|       10:43 AM| 45906|  11.598|             null|             Finance|\n|    Angela|Female|2005-11-22|        6:29 AM| 95570|  18.523|             true|         Engineering|\n|   Frances|Female|2002-08-08|        6:51 AM|139852|   7.524|             true|Business Development|\n|    Louise|Female|1980-08-12|        9:01 AM| 63241|  15.132|             true|                null|\n|     Julie|Female|1997-10-26|        3:19 PM|102508|  12.637|             true|               Legal|\n|   Brandon|  Male|1980-12-01|        1:08 AM|112807|  17.492|             true|     Human Resources|\n|      Gary|  Male|2008-01-27|       11:40 PM|109831|   5.831|            false|               Sales|\n|  Kimberly|Female|1999-01-14|        7:13 AM| 41426|  14.543|             true|             Finance|\n|   Lillian|Female|2016-06-05|        6:09 AM| 59414|   1.256|            false|             Product|\n|    Jeremy|  Male|2010-09-21|        5:56 AM| 90370|   7.369|            false|     Human Resources|\n|     Shawn|  Male|1986-12-07|        7:45 PM|111737|   6.414|            false|             Product|\n|     Diana|Female|1981-10-23|       10:27 AM|132940|  19.082|            false|     Client Services|\n|     Donna|Female|2010-07-22|        3:48 AM| 81014|   1.894|            false|             Product|\n+----------+------+----------+---------------+------+--------+-----------------+--------------------+\nonly showing top 20 rows\n\n"
     ]
    }
   ],
   "source": [
    "df2.show()"
   ]
  },
  {
   "cell_type": "code",
   "execution_count": 0,
   "metadata": {
    "application/vnd.databricks.v1+cell": {
     "cellMetadata": {},
     "inputWidgets": {},
     "nuid": "4e1d1576-4eb6-42d1-8870-aea274d7a5c9",
     "showTitle": false,
     "title": ""
    }
   },
   "outputs": [],
   "source": []
  },
  {
   "cell_type": "code",
   "execution_count": 0,
   "metadata": {
    "application/vnd.databricks.v1+cell": {
     "cellMetadata": {},
     "inputWidgets": {},
     "nuid": "0b1545db-608d-4206-bf66-cc3d91381d8d",
     "showTitle": false,
     "title": ""
    }
   },
   "outputs": [],
   "source": []
  }
 ],
 "metadata": {
  "application/vnd.databricks.v1+notebook": {
   "dashboards": [],
   "environmentMetadata": null,
   "language": "python",
   "notebookMetadata": {
    "pythonIndentUnit": 4
   },
   "notebookName": "flipkart_project",
   "widgets": {}
  }
 },
 "nbformat": 4,
 "nbformat_minor": 0
}
